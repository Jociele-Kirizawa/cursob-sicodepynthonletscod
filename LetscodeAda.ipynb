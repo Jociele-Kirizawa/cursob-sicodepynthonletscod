{
 "cells": [
  {
   "cell_type": "code",
   "execution_count": 11,
   "id": "f4ef756a-638f-486d-938a-2ccfb3bb0a29",
   "metadata": {},
   "outputs": [
    {
     "name": "stdin",
     "output_type": "stream",
     "text": [
      "Digite um número:  5\n"
     ]
    },
    {
     "name": "stdout",
     "output_type": "stream",
     "text": [
      "0\n",
      "1\n",
      "2\n",
      "3\n",
      "4\n",
      "5\n"
     ]
    }
   ],
   "source": [
    "#exercício N1\n",
    "\n",
    "numero = int(input (\"Digite um número: \"))\n",
    "\n",
    "contador = 0\n",
    "while contador <=  (numero):\n",
    "        print (contador)\n",
    "        contador += 1\n",
    "      "
   ]
  },
  {
   "cell_type": "code",
   "execution_count": 17,
   "id": "751ca825-cb2b-4b1b-a216-083a897ebe4c",
   "metadata": {},
   "outputs": [
    {
     "name": "stdin",
     "output_type": "stream",
     "text": [
      "Digite um número:  101\n"
     ]
    },
    {
     "name": "stdout",
     "output_type": "stream",
     "text": [
      "numero fora do intervalo \n"
     ]
    }
   ],
   "source": [
    "#exercicío2\n",
    "numero = float (input (\"Digite um número: \"))\n",
    "\n",
    "if numero >= 0 and numero <= 25:\n",
    "    print (\"[0,25]\")\n",
    "elif numero >= 25.1 and numero <= 50:\n",
    "    print (\"[25,50]\")\n",
    "elif numero >= 50.1 and numero <= 75:\n",
    "    print  (\"[50,75]\")\n",
    "elif numero >= 75.1 and numero <= 100:\n",
    "     print  (\"[75, 100]\")\n",
    "else:\n",
    "    print (\"numero fora do intervalo \")\n",
    "    "
   ]
  },
  {
   "cell_type": "code",
   "execution_count": 14,
   "id": "999e5bce-6179-4db3-b610-9d68c89596c7",
   "metadata": {},
   "outputs": [],
   "source": [
    "#exercicio3\n",
    "from math import pi\n",
    "\n",
    "            \n",
    "def area (raio):\n",
    "    area1 = pi*raio**2\n",
    "    return area1 \n"
   ]
  },
  {
   "cell_type": "code",
   "execution_count": 15,
   "id": "16328357-eb89-40e2-805e-380a2fa3483b",
   "metadata": {},
   "outputs": [
    {
     "name": "stdout",
     "output_type": "stream",
     "text": [
      "12.566370614359172\n"
     ]
    }
   ],
   "source": [
    "resultado = area (2)\n",
    "print (resultado)"
   ]
  },
  {
   "cell_type": "code",
   "execution_count": 17,
   "id": "0529f66f-e541-4da4-9091-bdb8d23bf774",
   "metadata": {},
   "outputs": [
    {
     "name": "stdin",
     "output_type": "stream",
     "text": [
      "Qual seu salário?  1000\n"
     ]
    },
    {
     "name": "stdout",
     "output_type": "stream",
     "text": [
      "O novo salario sera de:  850.0\n"
     ]
    }
   ],
   "source": [
    "#exercicio 1 CORRETO\n",
    "\n",
    "salario = float (input (\"Qual seu salário? \"))\n",
    "\n",
    "novo_salario = salario*0.85\n",
    "\n",
    "print (f\"O novo salario sera de:  {novo_salario}\")\n"
   ]
  },
  {
   "cell_type": "code",
   "execution_count": 36,
   "id": "cc36842f-ef3d-4731-968a-429ff788bff6",
   "metadata": {},
   "outputs": [
    {
     "name": "stdin",
     "output_type": "stream",
     "text": [
      "Qual sua idade?  2\n"
     ]
    },
    {
     "name": "stdout",
     "output_type": "stream",
     "text": [
      "Idade válida\n"
     ]
    },
    {
     "name": "stdin",
     "output_type": "stream",
     "text": [
      "Qual seu salário?  3\n"
     ]
    },
    {
     "name": "stdout",
     "output_type": "stream",
     "text": [
      "sálario válido\n"
     ]
    },
    {
     "name": "stdin",
     "output_type": "stream",
     "text": [
      "Qual seu sexo: M, F, Outro ? m\n"
     ]
    },
    {
     "name": "stdout",
     "output_type": "stream",
     "text": [
      "M\n",
      "Sexo informado válido\n"
     ]
    }
   ],
   "source": [
    "#exercicio 2 CORRETO\n",
    "\n",
    "idade = int (input (\"Qual sua idade? \" ))\n",
    "if idade >= 0 and idade <= 150:\n",
    "    print (\"Idade válida\")\n",
    "else:\n",
    "    print (\"Idade inválida\")\n",
    "Salario = float (input (\"Qual seu salário? \"))\n",
    "if salario > 0:\n",
    "    print (\"sálario válido\")\n",
    "else:\n",
    "    print (\"salario invalido\")\n",
    "\n",
    "sexo = str (input (\"Qual seu sexo: M, F, Outro ?\")).upper()\n",
    "print (sexo)   \n",
    "if sexo == \"M\" or sexo == \"F\" or sexo == \"OUTRO\":\n",
    "    print (\"Sexo informado válido\")\n",
    "else:\n",
    "    print (\"Sexo invalido\")\n"
   ]
  },
  {
   "cell_type": "code",
   "execution_count": 30,
   "id": "eaabc53d-8a49-4c36-8c0f-d823f3d2f56c",
   "metadata": {},
   "outputs": [
    {
     "name": "stdin",
     "output_type": "stream",
     "text": [
      "Mora perto da vitima? sim ou não  não\n",
      "Já trabalhou com a vitima? sim ou não  não\n",
      "Telefonou para vitima?  sim ou não não\n",
      "Esteve no local do crime? sim ou não não\n",
      "Devia para vitima? sim ou não sim\n"
     ]
    },
    {
     "name": "stdout",
     "output_type": "stream",
     "text": [
      "Liberado\n"
     ]
    }
   ],
   "source": [
    "#exercicio 3 CORRET0\n",
    "\n",
    "#primeiro fazer as perguntas?\n",
    "\n",
    "mora_perto = input(\"Mora perto da vitima? sim ou não \")\n",
    "trabalho = input (\"Já trabalhou com a vitima? sim ou não \")\n",
    "telefone = input (\"Telefonou para vitima?  sim ou não\")\n",
    "local_crime = input (\"Esteve no local do crime? sim ou não\")\n",
    "divida = input (\"Devia para vitima? sim ou não\")\n",
    "\n",
    "contador = 0\n",
    "\n",
    "if mora_perto == \"sim\":\n",
    "    contador += 1\n",
    "if trabalho == \"sim\":\n",
    "    contador += 1\n",
    "if telefone ==\"sim\":\n",
    "    contador += 1\n",
    "if local_crime == \"sim\":\n",
    "    contador += 1\n",
    "if divida == \"sim\":\n",
    "    contador += 1\n",
    "\n",
    "\n",
    "if contador == 5:\n",
    "    print (\"Assassino\")\n",
    "elif contador >= 3 and contador <=4:\n",
    "    print (\"cúmplice\")\n",
    "elif contador == 2:\n",
    "    print (\"suspeito\")\n",
    "else:\n",
    "    print(\"Liberado\")\n",
    "\n"
   ]
  },
  {
   "cell_type": "code",
   "execution_count": 31,
   "id": "09b89a5d-106f-47e3-b453-b772a9eeb4fb",
   "metadata": {},
   "outputs": [
    {
     "name": "stdout",
     "output_type": "stream",
     "text": [
      "0\n",
      "9\n",
      "18\n",
      "27\n",
      "36\n",
      "45\n",
      "54\n",
      "63\n",
      "72\n",
      "81\n",
      "90\n"
     ]
    }
   ],
   "source": [
    "#exercicio 4 CORRETO\n",
    "\n",
    "for n in range (0,11):\n",
    "    print (9*n)\n",
    "\n",
    "\n",
    "    "
   ]
  },
  {
   "cell_type": "code",
   "execution_count": 33,
   "id": "534cab93-2e76-43cb-9077-ac5650f307a0",
   "metadata": {},
   "outputs": [
    {
     "name": "stdout",
     "output_type": "stream",
     "text": [
      "9\n",
      "18\n",
      "27\n",
      "36\n",
      "45\n",
      "54\n",
      "63\n",
      "72\n",
      "81\n",
      "90\n"
     ]
    }
   ],
   "source": [
    "c = 0\n",
    "while c != 10:\n",
    "    c = c +1\n",
    "    print (9*c)"
   ]
  },
  {
   "cell_type": "code",
   "execution_count": 44,
   "id": "ac239d3b-039e-4c4a-a1a2-6f75c37e81ea",
   "metadata": {},
   "outputs": [
    {
     "name": "stdout",
     "output_type": "stream",
     "text": [
      "1\n",
      "2\n",
      "3\n",
      "4\n",
      "5\n"
     ]
    }
   ],
   "source": [
    "#MODULO2\n",
    "#EXERCICIO 1\n",
    "\n",
    "lista = [1,2,3,4,5,6,7,8,9,10]\n",
    "contador = 0\n",
    "for n in lista:\n",
    "    if (n % 2 == 0):\n",
    "        contador += 1\n",
    "        print (contador)\n"
   ]
  },
  {
   "cell_type": "code",
   "execution_count": 46,
   "id": "1efb70df-1cd3-4150-ad2d-8d384eb2c4d3",
   "metadata": {},
   "outputs": [
    {
     "name": "stdin",
     "output_type": "stream",
     "text": [
      "Digita uma palavra:  antonio\n"
     ]
    },
    {
     "name": "stdout",
     "output_type": "stream",
     "text": [
      "a\n",
      "n\n",
      "t\n",
      "o\n",
      "n\n",
      "i\n",
      "o\n",
      "antonio\n"
     ]
    }
   ],
   "source": [
    "#EXERCICIO 2\n",
    "\n",
    "nome = input (\"Digita uma palavra: \")\n",
    "for n in nome:\n",
    "    print (n)\n",
    "print (nome)"
   ]
  },
  {
   "cell_type": "code",
   "execution_count": 54,
   "id": "4043c743-f6dd-4471-be23-c354ce9d38c1",
   "metadata": {},
   "outputs": [
    {
     "name": "stdout",
     "output_type": "stream",
     "text": [
      "{'Janeiro': 31, 'Fevereiro': 28, 'Março': 31, 'Abril': 30, 'Maio': 31, 'Junho': 30, 'Julho': 31}\n",
      "31\n",
      "Janeiro-31\n",
      "Fevereiro-28\n",
      "Março-31\n",
      "Abril-30\n",
      "Maio-31\n",
      "Junho-30\n",
      "Julho-31\n"
     ]
    }
   ],
   "source": [
    "#exercicio 4\n",
    "meses_ano = {'Janeiro':31, 'Fevereiro': 28,'Março':31, 'Abril':30, 'Maio': 31, 'Junho':30, 'Julho':31}\n",
    "print (meses_ano)\n",
    "\n",
    "#exercicio 5\n",
    "print(meses_ano['Janeiro'])\n",
    "for n in meses_ano:\n",
    "    print(n + \"-\" + str(meses_ano[n]))\n",
    "    "
   ]
  },
  {
   "cell_type": "code",
   "execution_count": 2,
   "id": "854eefae-2d3e-4c95-9ceb-713471bc9f1e",
   "metadata": {},
   "outputs": [
    {
     "name": "stdout",
     "output_type": "stream",
     "text": [
      "[5, 4, 3]\n"
     ]
    }
   ],
   "source": [
    "#EXERCICIO 3\n",
    "lista1 = [1, 2, 3]\n",
    "lista2 = [3, 2, 1]\n",
    "lista3 = []\n",
    "for i in range(0,len(lista1)):\n",
    "        lista3.append (lista1[1] + lista2 [i])\n",
    "print(lista3)\n",
    "\n",
    "    \n",
    "                "
   ]
  },
  {
   "cell_type": "code",
   "execution_count": null,
   "id": "2a682ccf-c67f-4d3c-9b00-4fd050d33678",
   "metadata": {},
   "outputs": [],
   "source": []
  }
 ],
 "metadata": {
  "kernelspec": {
   "display_name": "Python 3 (ipykernel)",
   "language": "python",
   "name": "python3"
  },
  "language_info": {
   "codemirror_mode": {
    "name": "ipython",
    "version": 3
   },
   "file_extension": ".py",
   "mimetype": "text/x-python",
   "name": "python",
   "nbconvert_exporter": "python",
   "pygments_lexer": "ipython3",
   "version": "3.9.12"
  }
 },
 "nbformat": 4,
 "nbformat_minor": 5
}
