{
 "cells": [
  {
   "cell_type": "code",
   "execution_count": 1,
   "id": "23ca114c-deee-4c9f-accc-44f8415d498e",
   "metadata": {},
   "outputs": [
    {
     "name": "stdout",
     "output_type": "stream",
     "text": [
      "1\n",
      "3.13\n",
      "pynthon\n",
      "False\n"
     ]
    }
   ],
   "source": [
    "#Criar uma variavel do tipo inteiro\n",
    "x=1\n",
    "print (x)\n",
    "#criar variavel do tipo float\n",
    "y= 3.13\n",
    "print (y)\n",
    "#criar variavel do tipo string\n",
    "m = 'pynthon'\n",
    "print (m)\n",
    "#criar variavel do tipo logica\n",
    "w= True\n",
    "y= False\n",
    "print (y)"
   ]
  },
  {
   "cell_type": "code",
   "execution_count": 3,
   "id": "a0f5a413-5586-40b7-af03-b3e6e518e072",
   "metadata": {},
   "outputs": [
    {
     "name": "stdout",
     "output_type": "stream",
     "text": [
      "30.0\n"
     ]
    }
   ],
   "source": [
    "#calculadora\n",
    "x= 10\n",
    "y= 20\n",
    "z= 100\n",
    "w= (x+y)*z / 100\n",
    "print (w)"
   ]
  },
  {
   "cell_type": "code",
   "execution_count": 14,
   "id": "5170d4d8-34a6-4e8d-b39b-de6e61e6534c",
   "metadata": {},
   "outputs": [
    {
     "name": "stdout",
     "output_type": "stream",
     "text": [
      "este texto sera impresso no console\n",
      "10\n",
      "Texto e duas variaveis:  10  ,  100\n"
     ]
    }
   ],
   "source": [
    "#exibir texto do console\n",
    "print(\"este texto sera impresso no console\" )\n",
    "print(x)\n",
    "print(\"Texto e duas variaveis: \" , x , \" , \", z)"
   ]
  },
  {
   "cell_type": "code",
   "execution_count": 16,
   "id": "b178ddb6-cdf0-4541-8d24-633dd229cecd",
   "metadata": {},
   "outputs": [
    {
     "name": "stdout",
     "output_type": "stream",
     "text": [
      "<class 'int'>\n",
      "<class 'str'>\n",
      "<class 'int'>\n"
     ]
    }
   ],
   "source": [
    "#verificar tipo\n",
    "print(type(x))\n",
    "print(type(m))\n",
    "print (type(y))"
   ]
  },
  {
   "cell_type": "code",
   "execution_count": 20,
   "id": "b572de90-52b8-454e-a0b9-f38921ca8e66",
   "metadata": {},
   "outputs": [
    {
     "name": "stdout",
     "output_type": "stream",
     "text": [
      "informe um valor: \n"
     ]
    },
    {
     "name": "stdin",
     "output_type": "stream",
     "text": [
      " 34\n",
      "informe um valor: 45\n"
     ]
    },
    {
     "name": "stdout",
     "output_type": "stream",
     "text": [
      "<class 'str'>\n"
     ]
    }
   ],
   "source": [
    "#entrada de dado\n",
    "print (\"informe um valor: \")\n",
    "i= input()\n",
    "#ou\n",
    "i = input (\"informe um valor:\")\n",
    "print(type(i))"
   ]
  },
  {
   "cell_type": "code",
   "execution_count": 25,
   "id": "bc5714e5-47f2-45ff-8d82-e1e5ca0b4f6a",
   "metadata": {},
   "outputs": [
    {
     "name": "stdin",
     "output_type": "stream",
     "text": [
      "informe um valor 1.0\n"
     ]
    },
    {
     "name": "stdout",
     "output_type": "stream",
     "text": [
      "<class 'str'>\n"
     ]
    },
    {
     "ename": "ValueError",
     "evalue": "invalid literal for int() with base 10: '1.0'",
     "output_type": "error",
     "traceback": [
      "\u001b[1;31m---------------------------------------------------------------------------\u001b[0m",
      "\u001b[1;31mValueError\u001b[0m                                Traceback (most recent call last)",
      "Input \u001b[1;32mIn [25]\u001b[0m, in \u001b[0;36m<cell line: 4>\u001b[1;34m()\u001b[0m\n\u001b[0;32m      2\u001b[0m var \u001b[38;5;241m=\u001b[39m \u001b[38;5;28minput\u001b[39m (\u001b[38;5;124m\"\u001b[39m\u001b[38;5;124minforme um valor\u001b[39m\u001b[38;5;124m\"\u001b[39m)\n\u001b[0;32m      3\u001b[0m \u001b[38;5;28mprint\u001b[39m(\u001b[38;5;28mtype\u001b[39m(var))\n\u001b[1;32m----> 4\u001b[0m var \u001b[38;5;241m=\u001b[39m \u001b[38;5;28;43mint\u001b[39;49m\u001b[43m(\u001b[49m\u001b[43mvar\u001b[49m\u001b[43m)\u001b[49m\n\u001b[0;32m      5\u001b[0m \u001b[38;5;28mprint\u001b[39m(\u001b[38;5;28mtype\u001b[39m(var))\n",
      "\u001b[1;31mValueError\u001b[0m: invalid literal for int() with base 10: '1.0'"
     ]
    }
   ],
   "source": [
    "#conversáo de valores para inteiro\n",
    "var = input (\"informe um valor\")\n",
    "print(type(var))\n",
    "var = int(var)\n",
    "print(type(var))\n"
   ]
  },
  {
   "cell_type": "code",
   "execution_count": 24,
   "id": "70de8b01-205e-40d6-beeb-7a67df7575dc",
   "metadata": {},
   "outputs": [
    {
     "name": "stdin",
     "output_type": "stream",
     "text": [
      "Digite um numero:  1\n"
     ]
    },
    {
     "name": "stdout",
     "output_type": "stream",
     "text": [
      "<class 'str'>\n",
      "<class 'float'>\n"
     ]
    }
   ],
   "source": [
    "pia = input (\"Digite um numero: \")\n",
    "print(type(pia))\n",
    "pia = float (pia)\n",
    "print(type(pia))"
   ]
  },
  {
   "cell_type": "code",
   "execution_count": null,
   "id": "ad7c4887-3747-4a6b-99d1-c0673a3ba671",
   "metadata": {},
   "outputs": [],
   "source": []
  }
 ],
 "metadata": {
  "kernelspec": {
   "display_name": "Python 3 (ipykernel)",
   "language": "python",
   "name": "python3"
  },
  "language_info": {
   "codemirror_mode": {
    "name": "ipython",
    "version": 3
   },
   "file_extension": ".py",
   "mimetype": "text/x-python",
   "name": "python",
   "nbconvert_exporter": "python",
   "pygments_lexer": "ipython3",
   "version": "3.9.12"
  }
 },
 "nbformat": 4,
 "nbformat_minor": 5
}
